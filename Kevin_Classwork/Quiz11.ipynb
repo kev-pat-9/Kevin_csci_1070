{
 "cells": [
  {
   "cell_type": "markdown",
   "metadata": {},
   "source": [
    "# 1"
   ]
  },
  {
   "cell_type": "code",
   "execution_count": 25,
   "metadata": {},
   "outputs": [
    {
     "name": "stdout",
     "output_type": "stream",
     "text": [
      "['a', 'b']\n"
     ]
    }
   ],
   "source": [
    "input_list = [1, 2, 'a', 'b', 7.6]\n",
    "def number_filter(input_list):\n",
    "    return [num for num in input_list if not isinstance(num,(int, float))]\n",
    "\n",
    "\n",
    "\n",
    "output_list = number_filter(input_list)\n",
    "print(number_filter(input_list))\n"
   ]
  },
  {
   "cell_type": "markdown",
   "metadata": {},
   "source": [
    "# 2"
   ]
  },
  {
   "cell_type": "code",
   "execution_count": 10,
   "metadata": {},
   "outputs": [
    {
     "name": "stdout",
     "output_type": "stream",
     "text": [
      "1\n",
      "2\n",
      "fizz\n",
      "4\n",
      "buzz\n",
      "fizz\n",
      "7\n",
      "8\n",
      "fizz\n"
     ]
    }
   ],
   "source": [
    "def fizzbuzz(end):\n",
    "    for num in range(1, end + 1):  \n",
    "        if num % 3 == 0 and num % 5 == 0:\n",
    "            print(\"fizzbuzz\")\n",
    "        elif num % 3 == 0:\n",
    "            print(\"fizz\")\n",
    "        elif num % 5 == 0:\n",
    "            print(\"buzz\")\n",
    "        else:\n",
    "            print(num)\n",
    "\n",
    "fizzbuzz(9)\n"
   ]
  }
 ],
 "metadata": {
  "kernelspec": {
   "display_name": "Python 3",
   "language": "python",
   "name": "python3"
  },
  "language_info": {
   "codemirror_mode": {
    "name": "ipython",
    "version": 3
   },
   "file_extension": ".py",
   "mimetype": "text/x-python",
   "name": "python",
   "nbconvert_exporter": "python",
   "pygments_lexer": "ipython3",
   "version": "3.9.6"
  }
 },
 "nbformat": 4,
 "nbformat_minor": 2
}
