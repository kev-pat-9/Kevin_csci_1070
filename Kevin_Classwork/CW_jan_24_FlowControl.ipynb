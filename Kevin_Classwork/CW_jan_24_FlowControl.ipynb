{
 "cells": [
  {
   "cell_type": "markdown",
   "id": "71b66e40-0644-4cec-8a2a-852f31c068b9",
   "metadata": {},
   "source": [
    "# Loops & Functions"
   ]
  },
  {
   "cell_type": "code",
   "execution_count": 3,
   "id": "a65aa8b7-7b34-4005-9dd2-55280b0156c8",
   "metadata": {},
   "outputs": [
    {
     "name": "stdout",
     "output_type": "stream",
     "text": [
      "b is greater\n"
     ]
    }
   ],
   "source": [
    "# loops are flow contorl. They change how data moves through the application.\n",
    "# if ... elif ... else\n",
    "# if a equals b, return \"they are equal\". If a > b return \"a is geater\"\n",
    "# and if b > a return \"b is greater\"\n",
    "a = 4\n",
    "b = 7\n",
    "if a == b:\n",
    "    print(\"they are equal\")\n",
    "elif a>b:\n",
    "    print(\"a is greater\")\n",
    "elif b>a:\n",
    "    print(\"b is greater\")"
   ]
  },
  {
   "cell_type": "code",
   "execution_count": 5,
   "id": "020f5446-e4c3-490e-90f5-b5d5c7958b6b",
   "metadata": {},
   "outputs": [
    {
     "name": "stdout",
     "output_type": "stream",
     "text": [
      "7\n",
      "6\n"
     ]
    }
   ],
   "source": [
    "# while loops\n",
    "# repeatedly test an expression & continue to run  whatever is in the loop\n",
    "# until a stopping condition is met\n",
    "x = 7 \n",
    "while x>5:\n",
    "    print(x)\n",
    "    # x=x-1\n",
    "    x-=1"
   ]
  },
  {
   "cell_type": "code",
   "execution_count": 6,
   "id": "33f6d45f-bd6e-4b83-a731-5c297ecf1327",
   "metadata": {},
   "outputs": [
    {
     "name": "stdout",
     "output_type": "stream",
     "text": [
      "3\n",
      "4\n",
      "5\n",
      "6\n",
      "7\n",
      "8\n",
      "9\n"
     ]
    }
   ],
   "source": [
    "x=3\n",
    "while x<10:\n",
    "    print(x)\n",
    "    x+=1"
   ]
  },
  {
   "cell_type": "code",
   "execution_count": 8,
   "id": "0c13f12b-ae2d-431d-b498-87f3afa74dea",
   "metadata": {},
   "outputs": [
    {
     "name": "stdout",
     "output_type": "stream",
     "text": [
      "dexter\n",
      "pharoah\n",
      "oreo\n",
      "mitas\n",
      "enzo\n",
      "warmonger\n"
     ]
    }
   ],
   "source": [
    "# for loops\n",
    "cats=[\"dexter\",\"pharoah\",\"oreo\",\"mitas\",\"enzo\",\"warmonger\"]\n",
    "for x in cats:\n",
    "    print(x)"
   ]
  },
  {
   "cell_type": "code",
   "execution_count": 9,
   "id": "2b4b66dc-e5da-4f5a-be50-c729805a5cd8",
   "metadata": {},
   "outputs": [
    {
     "name": "stdout",
     "output_type": "stream",
     "text": [
      "2\n",
      "4\n",
      "6\n",
      "8\n"
     ]
    }
   ],
   "source": [
    "# range(start,stop,[step])\n",
    "for r in range(2,10,2):\n",
    "    print(r)"
   ]
  },
  {
   "cell_type": "code",
   "execution_count": 10,
   "id": "64b93725-e8fc-441f-8151-41863fef7014",
   "metadata": {},
   "outputs": [],
   "source": [
    "# functions\n",
    "# let us encapsulate chuncks of code thatwe might want to use again\n",
    "def comparing(a,b):\n",
    "    if a == b:\n",
    "        print(\"they are equal\")\n",
    "    elif a>b:\n",
    "        print(\"a is greater\")\n",
    "    elif b>a:\n",
    "        print(\"b is greater\")"
   ]
  },
  {
   "cell_type": "code",
   "execution_count": 11,
   "id": "56f8deb6-b2d9-4dbc-a5a6-fa91b6eb773e",
   "metadata": {},
   "outputs": [
    {
     "name": "stdout",
     "output_type": "stream",
     "text": [
      "b is greater\n"
     ]
    }
   ],
   "source": [
    "comparing(2,5)"
   ]
  },
  {
   "cell_type": "code",
   "execution_count": 12,
   "id": "2c7e833b-77cb-46c0-a4f8-46b99a2704ec",
   "metadata": {},
   "outputs": [
    {
     "name": "stdout",
     "output_type": "stream",
     "text": [
      "a is greater\n"
     ]
    }
   ],
   "source": [
    "comparing(4,2)"
   ]
  },
  {
   "cell_type": "code",
   "execution_count": 13,
   "id": "8b34967e-1d31-4f14-9f89-a23e9cfe50c0",
   "metadata": {},
   "outputs": [
    {
     "name": "stdout",
     "output_type": "stream",
     "text": [
      "they are equal\n"
     ]
    }
   ],
   "source": [
    "comparing(2,2)"
   ]
  },
  {
   "cell_type": "code",
   "execution_count": 3,
   "id": "233847ff-ce09-4ad4-b7e6-9fb9533c388b",
   "metadata": {},
   "outputs": [
    {
     "name": "stdout",
     "output_type": "stream",
     "text": [
      "January is not my birthday month\n",
      "February is not my birthday month\n",
      "March is not my birthday month\n",
      "April is not my birthday month\n",
      "May is not my birthday month\n",
      "June is not my birthday month\n",
      "July is not my birthday month\n",
      "August is my birthday\n",
      "September is not my birthday month\n",
      "October is not my birthday month\n",
      "November is not my birthday month\n",
      "December is not my birthday month\n"
     ]
    }
   ],
   "source": [
    "birth_month = \"August\"\n",
    "months = [\"January\", \"February\", \"March\", \"April\", \"May\", \"June\", \"July\", \"August\", \"September\", \"October\", \"November\", \"December\"]\n",
    "\n",
    "for month in months:\n",
    "    if month == birth_month:\n",
    "        print(f\"{month} is my birthday\")\n",
    "    else:\n",
    "        print(f\"{month} is not my birthday month\")"
   ]
  },
  {
   "cell_type": "code",
   "execution_count": null,
   "id": "a051373c-7275-468b-97a0-48865c84ce97",
   "metadata": {},
   "outputs": [],
   "source": []
  }
 ],
 "metadata": {
  "kernelspec": {
   "display_name": "Python 3 (ipykernel)",
   "language": "python",
   "name": "python3"
  },
  "language_info": {
   "codemirror_mode": {
    "name": "ipython",
    "version": 3
   },
   "file_extension": ".py",
   "mimetype": "text/x-python",
   "name": "python",
   "nbconvert_exporter": "python",
   "pygments_lexer": "ipython3",
   "version": "3.12.1"
  }
 },
 "nbformat": 4,
 "nbformat_minor": 5
}
