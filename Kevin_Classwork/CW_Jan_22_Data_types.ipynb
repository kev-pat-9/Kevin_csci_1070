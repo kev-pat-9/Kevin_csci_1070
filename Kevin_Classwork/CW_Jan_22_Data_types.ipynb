{
 "cells": [
  {
   "cell_type": "code",
   "execution_count": 5,
   "id": "4ce49294-350b-4d18-bd81-d7359337c168",
   "metadata": {},
   "outputs": [
    {
     "name": "stdout",
     "output_type": "stream",
     "text": [
      "5\n"
     ]
    }
   ],
   "source": [
    "print(5)"
   ]
  },
  {
   "cell_type": "code",
   "execution_count": 6,
   "id": "176c822a-6de1-4fa4-bd54-89954d2c51bd",
   "metadata": {},
   "outputs": [
    {
     "ename": "NameError",
     "evalue": "name 'x' is not defined",
     "output_type": "error",
     "traceback": [
      "\u001b[0;31m---------------------------------------------------------------------------\u001b[0m",
      "\u001b[0;31mNameError\u001b[0m                                 Traceback (most recent call last)",
      "Cell \u001b[0;32mIn[6], line 1\u001b[0m\n\u001b[0;32m----> 1\u001b[0m \u001b[38;5;28mprint\u001b[39m(\u001b[38;5;28mtype\u001b[39m(\u001b[43mx\u001b[49m))\n",
      "\u001b[0;31mNameError\u001b[0m: name 'x' is not defined"
     ]
    }
   ],
   "source": [
    "print(type(x))\n"
   ]
  },
  {
   "cell_type": "code",
   "execution_count": 3,
   "id": "bfa5dae0-1fb9-4041-b18a-43aa75fe623f",
   "metadata": {},
   "outputs": [
    {
     "ename": "SyntaxError",
     "evalue": "invalid syntax (1951259057.py, line 2)",
     "output_type": "error",
     "traceback": [
      "\u001b[0;36m  Cell \u001b[0;32mIn[3], line 2\u001b[0;36m\u001b[0m\n\u001b[0;31m    <class 'int'>\u001b[0m\n\u001b[0m    ^\u001b[0m\n\u001b[0;31mSyntaxError\u001b[0m\u001b[0;31m:\u001b[0m invalid syntax\n"
     ]
    }
   ],
   "source": [
    "print(type(x))\n",
    "<class 'int'>"
   ]
  },
  {
   "cell_type": "code",
   "execution_count": 4,
   "id": "0086059a-ff9f-466e-95ec-eb85804f2d13",
   "metadata": {},
   "outputs": [
    {
     "ename": "NameError",
     "evalue": "name 'x' is not defined",
     "output_type": "error",
     "traceback": [
      "\u001b[0;31m---------------------------------------------------------------------------\u001b[0m",
      "\u001b[0;31mNameError\u001b[0m                                 Traceback (most recent call last)",
      "Cell \u001b[0;32mIn[4], line 1\u001b[0m\n\u001b[0;32m----> 1\u001b[0m \u001b[38;5;28mprint\u001b[39m(\u001b[38;5;28mtype\u001b[39m(\u001b[43mx\u001b[49m))\n",
      "\u001b[0;31mNameError\u001b[0m: name 'x' is not defined"
     ]
    }
   ],
   "source": [
    "print(type(x))"
   ]
  },
  {
   "cell_type": "code",
   "execution_count": 7,
   "id": "91dd8365-5799-4a16-b74c-7f528b823847",
   "metadata": {},
   "outputs": [],
   "source": [
    "breakfast = {\"waffles\":40,\n",
    "             \"eggs\":60,\n",
    "             \"cereal\":30}"
   ]
  },
  {
   "cell_type": "code",
   "execution_count": 8,
   "id": "ab33ff2e-06c8-483b-a0a7-53f4b8a3e06f",
   "metadata": {},
   "outputs": [
    {
     "name": "stdout",
     "output_type": "stream",
     "text": [
      "60\n"
     ]
    }
   ],
   "source": [
    "print(breakfast[\"eggs\"])"
   ]
  },
  {
   "cell_type": "code",
   "execution_count": 9,
   "id": "8d0630f5-33ed-48cf-a97e-4165835bea71",
   "metadata": {},
   "outputs": [
    {
     "data": {
      "text/plain": [
       "bool"
      ]
     },
     "execution_count": 9,
     "metadata": {},
     "output_type": "execute_result"
    }
   ],
   "source": [
    "is_true = False\n",
    "type(is_true)"
   ]
  },
  {
   "cell_type": "code",
   "execution_count": 10,
   "id": "f25fff59-8d40-4119-8fc2-39e5aaffec16",
   "metadata": {},
   "outputs": [
    {
     "name": "stdout",
     "output_type": "stream",
     "text": [
      "{'eggs', 'bacon'}\n"
     ]
    }
   ],
   "source": [
    "breakfast_set = {\"eggs\",\"bacon\"}\n",
    "print(breakfast_set)"
   ]
  },
  {
   "cell_type": "code",
   "execution_count": 11,
   "id": "7391e958-b85b-48fe-be77-54fdf4e42e4a",
   "metadata": {},
   "outputs": [
    {
     "data": {
      "text/plain": [
       "'March'"
      ]
     },
     "execution_count": 11,
     "metadata": {},
     "output_type": "execute_result"
    }
   ],
   "source": [
    "months = [\"January\", \"February\", \"March\"]\n",
    "months[2]"
   ]
  },
  {
   "cell_type": "code",
   "execution_count": 15,
   "id": "dd212f7b-6e73-48a8-bdee-ccd3632fafd3",
   "metadata": {},
   "outputs": [
    {
     "data": {
      "text/plain": [
       "'coffee'"
      ]
     },
     "execution_count": 15,
     "metadata": {},
     "output_type": "execute_result"
    }
   ],
   "source": [
    "breakfast_tuple = (\"coffee\", \"bagals\",)\n",
    "breakfast_tuple[0]"
   ]
  },
  {
   "cell_type": "code",
   "execution_count": 16,
   "id": "ae54b2d0-eb3c-4286-82fd-855c39568295",
   "metadata": {},
   "outputs": [
    {
     "name": "stdout",
     "output_type": "stream",
     "text": [
      "('a', 'b')\n"
     ]
    }
   ],
   "source": [
    "letter_tuple = (\"a\",\"b\",\"c\",\"d\",\"e\")\n",
    "x = slice(2)\n",
    "print(letter_tuple[x])"
   ]
  },
  {
   "cell_type": "code",
   "execution_count": 17,
   "id": "4811079b-f3af-47a4-8571-2d344b59f7f8",
   "metadata": {},
   "outputs": [
    {
     "data": {
      "text/plain": [
       "('a', 'b')"
      ]
     },
     "execution_count": 17,
     "metadata": {},
     "output_type": "execute_result"
    }
   ],
   "source": [
    "letter_tuple[0:2]"
   ]
  },
  {
   "cell_type": "code",
   "execution_count": 18,
   "id": "1cff98c8-3430-4652-8118-c06576e6c10c",
   "metadata": {},
   "outputs": [
    {
     "name": "stdout",
     "output_type": "stream",
     "text": [
      "('a',)\n"
     ]
    }
   ],
   "source": [
    "letter_tuple = (\"a\",\"b\",\"c\",\"d\",\"e\")\n",
    "x = slice(0,2,4)\n",
    "print(letter_tuple[x])"
   ]
  },
  {
   "cell_type": "code",
   "execution_count": 19,
   "id": "fa76cde5-4a0b-4c3d-89f4-150af7c0cc58",
   "metadata": {},
   "outputs": [
    {
     "data": {
      "text/plain": [
       "('a',)"
      ]
     },
     "execution_count": 19,
     "metadata": {},
     "output_type": "execute_result"
    }
   ],
   "source": [
    "letter_tuple[0:2:4]"
   ]
  },
  {
   "cell_type": "code",
   "execution_count": 20,
   "id": "4ccd35e3-c47a-47a1-abd7-8ec183b41981",
   "metadata": {},
   "outputs": [
    {
     "name": "stdout",
     "output_type": "stream",
     "text": [
      "('a', 'c')\n"
     ]
    }
   ],
   "source": [
    "letter_tuple = (\"a\",\"b\",\"c\",\"d\",\"e\")\n",
    "x = slice(0,4,2)\n",
    "print(letter_tuple[x])"
   ]
  },
  {
   "cell_type": "code",
   "execution_count": 21,
   "id": "ceceda3d-5008-46a2-9548-7581668f2cc3",
   "metadata": {},
   "outputs": [
    {
     "name": "stdout",
     "output_type": "stream",
     "text": [
      "('a', 'c', 'e')\n"
     ]
    }
   ],
   "source": [
    "letter_tuple = (\"a\",\"b\",\"c\",\"d\",\"e\")\n",
    "x = slice(0,5,2)\n",
    "print(letter_tuple[x])"
   ]
  },
  {
   "cell_type": "code",
   "execution_count": null,
   "id": "ff98a0b5-173e-4fdc-baff-cf2cfbd04155",
   "metadata": {},
   "outputs": [],
   "source": []
  }
 ],
 "metadata": {
  "kernelspec": {
   "display_name": "Python 3 (ipykernel)",
   "language": "python",
   "name": "python3"
  },
  "language_info": {
   "codemirror_mode": {
    "name": "ipython",
    "version": 3
   },
   "file_extension": ".py",
   "mimetype": "text/x-python",
   "name": "python",
   "nbconvert_exporter": "python",
   "pygments_lexer": "ipython3",
   "version": "3.12.1"
  }
 },
 "nbformat": 4,
 "nbformat_minor": 5
}
