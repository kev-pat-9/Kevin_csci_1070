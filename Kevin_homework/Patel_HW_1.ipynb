{
 "cells": [
  {
   "cell_type": "code",
   "execution_count": 1,
   "id": "e740f912-7553-4857-967a-f82abeb66b8e",
   "metadata": {},
   "outputs": [
    {
     "name": "stdout",
     "output_type": "stream",
     "text": [
      "Object `if` not found.\n"
     ]
    }
   ],
   "source": [
    "if?"
   ]
  },
  {
   "cell_type": "code",
   "execution_count": 2,
   "id": "a16d5ba9-15f5-41fe-b96b-716cedcbca3c",
   "metadata": {},
   "outputs": [
    {
     "ename": "SyntaxError",
     "evalue": "invalid syntax (3583279196.py, line 1)",
     "output_type": "error",
     "traceback": [
      "\u001b[0;36m  Cell \u001b[0;32mIn[2], line 1\u001b[0;36m\u001b[0m\n\u001b[0;31m    help(if)\u001b[0m\n\u001b[0m         ^\u001b[0m\n\u001b[0;31mSyntaxError\u001b[0m\u001b[0;31m:\u001b[0m invalid syntax\n"
     ]
    }
   ],
   "source": [
    "help(if)"
   ]
  },
  {
   "cell_type": "code",
   "execution_count": 3,
   "id": "9befdf03-2e14-4986-9e00-50b91cab15ee",
   "metadata": {},
   "outputs": [
    {
     "data": {
      "text/plain": [
       "\u001b[0;31mInit signature:\u001b[0m \u001b[0mlist\u001b[0m\u001b[0;34m(\u001b[0m\u001b[0miterable\u001b[0m\u001b[0;34m=\u001b[0m\u001b[0;34m(\u001b[0m\u001b[0;34m)\u001b[0m\u001b[0;34m,\u001b[0m \u001b[0;34m/\u001b[0m\u001b[0;34m)\u001b[0m\u001b[0;34m\u001b[0m\u001b[0;34m\u001b[0m\u001b[0m\n",
       "\u001b[0;31mDocstring:\u001b[0m     \n",
       "Built-in mutable sequence.\n",
       "\n",
       "If no argument is given, the constructor creates a new empty list.\n",
       "The argument must be an iterable if specified.\n",
       "\u001b[0;31mType:\u001b[0m           type\n",
       "\u001b[0;31mSubclasses:\u001b[0m     _List, _HashedSeq, StackSummary, _Threads, ConvertingList, DeferredConfigList, _ymd, _Accumulator, SList, _ImmutableLineList, ..."
      ]
     },
     "metadata": {},
     "output_type": "display_data"
    }
   ],
   "source": [
    "list?"
   ]
  },
  {
   "cell_type": "code",
   "execution_count": 4,
   "id": "6ed3dc6c-dc29-447f-b3dd-cebff6c15458",
   "metadata": {},
   "outputs": [
    {
     "ename": "NameError",
     "evalue": "name 'sort' is not defined",
     "output_type": "error",
     "traceback": [
      "\u001b[0;31m---------------------------------------------------------------------------\u001b[0m",
      "\u001b[0;31mNameError\u001b[0m                                 Traceback (most recent call last)",
      "Cell \u001b[0;32mIn[4], line 1\u001b[0m\n\u001b[0;32m----> 1\u001b[0m help(\u001b[43msort\u001b[49m)\n",
      "\u001b[0;31mNameError\u001b[0m: name 'sort' is not defined"
     ]
    }
   ],
   "source": [
    "help(sort)"
   ]
  },
  {
   "cell_type": "code",
   "execution_count": 5,
   "id": "5d0d272c-feaa-433b-b011-2b453948add1",
   "metadata": {},
   "outputs": [
    {
     "name": "stdout",
     "output_type": "stream",
     "text": [
      "Help on class list in module builtins:\n",
      "\n",
      "class list(object)\n",
      " |  list(iterable=(), /)\n",
      " |\n",
      " |  Built-in mutable sequence.\n",
      " |\n",
      " |  If no argument is given, the constructor creates a new empty list.\n",
      " |  The argument must be an iterable if specified.\n",
      " |\n",
      " |  Methods defined here:\n",
      " |\n",
      " |  __add__(self, value, /)\n",
      " |      Return self+value.\n",
      " |\n",
      " |  __contains__(self, key, /)\n",
      " |      Return bool(key in self).\n",
      " |\n",
      " |  __delitem__(self, key, /)\n",
      " |      Delete self[key].\n",
      " |\n",
      " |  __eq__(self, value, /)\n",
      " |      Return self==value.\n",
      " |\n",
      " |  __ge__(self, value, /)\n",
      " |      Return self>=value.\n",
      " |\n",
      " |  __getattribute__(self, name, /)\n",
      " |      Return getattr(self, name).\n",
      " |\n",
      " |  __getitem__(self, index, /)\n",
      " |      Return self[index].\n",
      " |\n",
      " |  __gt__(self, value, /)\n",
      " |      Return self>value.\n",
      " |\n",
      " |  __iadd__(self, value, /)\n",
      " |      Implement self+=value.\n",
      " |\n",
      " |  __imul__(self, value, /)\n",
      " |      Implement self*=value.\n",
      " |\n",
      " |  __init__(self, /, *args, **kwargs)\n",
      " |      Initialize self.  See help(type(self)) for accurate signature.\n",
      " |\n",
      " |  __iter__(self, /)\n",
      " |      Implement iter(self).\n",
      " |\n",
      " |  __le__(self, value, /)\n",
      " |      Return self<=value.\n",
      " |\n",
      " |  __len__(self, /)\n",
      " |      Return len(self).\n",
      " |\n",
      " |  __lt__(self, value, /)\n",
      " |      Return self<value.\n",
      " |\n",
      " |  __mul__(self, value, /)\n",
      " |      Return self*value.\n",
      " |\n",
      " |  __ne__(self, value, /)\n",
      " |      Return self!=value.\n",
      " |\n",
      " |  __repr__(self, /)\n",
      " |      Return repr(self).\n",
      " |\n",
      " |  __reversed__(self, /)\n",
      " |      Return a reverse iterator over the list.\n",
      " |\n",
      " |  __rmul__(self, value, /)\n",
      " |      Return value*self.\n",
      " |\n",
      " |  __setitem__(self, key, value, /)\n",
      " |      Set self[key] to value.\n",
      " |\n",
      " |  __sizeof__(self, /)\n",
      " |      Return the size of the list in memory, in bytes.\n",
      " |\n",
      " |  append(self, object, /)\n",
      " |      Append object to the end of the list.\n",
      " |\n",
      " |  clear(self, /)\n",
      " |      Remove all items from list.\n",
      " |\n",
      " |  copy(self, /)\n",
      " |      Return a shallow copy of the list.\n",
      " |\n",
      " |  count(self, value, /)\n",
      " |      Return number of occurrences of value.\n",
      " |\n",
      " |  extend(self, iterable, /)\n",
      " |      Extend list by appending elements from the iterable.\n",
      " |\n",
      " |  index(self, value, start=0, stop=9223372036854775807, /)\n",
      " |      Return first index of value.\n",
      " |\n",
      " |      Raises ValueError if the value is not present.\n",
      " |\n",
      " |  insert(self, index, object, /)\n",
      " |      Insert object before index.\n",
      " |\n",
      " |  pop(self, index=-1, /)\n",
      " |      Remove and return item at index (default last).\n",
      " |\n",
      " |      Raises IndexError if list is empty or index is out of range.\n",
      " |\n",
      " |  remove(self, value, /)\n",
      " |      Remove first occurrence of value.\n",
      " |\n",
      " |      Raises ValueError if the value is not present.\n",
      " |\n",
      " |  reverse(self, /)\n",
      " |      Reverse *IN PLACE*.\n",
      " |\n",
      " |  sort(self, /, *, key=None, reverse=False)\n",
      " |      Sort the list in ascending order and return None.\n",
      " |\n",
      " |      The sort is in-place (i.e. the list itself is modified) and stable (i.e. the\n",
      " |      order of two equal elements is maintained).\n",
      " |\n",
      " |      If a key function is given, apply it once to each list item and sort them,\n",
      " |      ascending or descending, according to their function values.\n",
      " |\n",
      " |      The reverse flag can be set to sort in descending order.\n",
      " |\n",
      " |  ----------------------------------------------------------------------\n",
      " |  Class methods defined here:\n",
      " |\n",
      " |  __class_getitem__(...) from builtins.type\n",
      " |      See PEP 585\n",
      " |\n",
      " |  ----------------------------------------------------------------------\n",
      " |  Static methods defined here:\n",
      " |\n",
      " |  __new__(*args, **kwargs) from builtins.type\n",
      " |      Create and return a new object.  See help(type) for accurate signature.\n",
      " |\n",
      " |  ----------------------------------------------------------------------\n",
      " |  Data and other attributes defined here:\n",
      " |\n",
      " |  __hash__ = None\n",
      "\n"
     ]
    }
   ],
   "source": [
    "help(list)"
   ]
  },
  {
   "cell_type": "code",
   "execution_count": 6,
   "id": "e82093cd-85e6-4dd7-9738-9ba62572fa52",
   "metadata": {},
   "outputs": [
    {
     "data": {
      "text/plain": [
       "\u001b[0;31mSignature:\u001b[0m \u001b[0msorted\u001b[0m\u001b[0;34m(\u001b[0m\u001b[0miterable\u001b[0m\u001b[0;34m,\u001b[0m \u001b[0;34m/\u001b[0m\u001b[0;34m,\u001b[0m \u001b[0;34m*\u001b[0m\u001b[0;34m,\u001b[0m \u001b[0mkey\u001b[0m\u001b[0;34m=\u001b[0m\u001b[0;32mNone\u001b[0m\u001b[0;34m,\u001b[0m \u001b[0mreverse\u001b[0m\u001b[0;34m=\u001b[0m\u001b[0;32mFalse\u001b[0m\u001b[0;34m)\u001b[0m\u001b[0;34m\u001b[0m\u001b[0;34m\u001b[0m\u001b[0m\n",
       "\u001b[0;31mDocstring:\u001b[0m\n",
       "Return a new list containing all items from the iterable in ascending order.\n",
       "\n",
       "A custom key function can be supplied to customize the sort order, and the\n",
       "reverse flag can be set to request the result in descending order.\n",
       "\u001b[0;31mType:\u001b[0m      builtin_function_or_method"
      ]
     },
     "metadata": {},
     "output_type": "display_data"
    }
   ],
   "source": [
    "sorted?"
   ]
  },
  {
   "cell_type": "code",
   "execution_count": 7,
   "id": "eb6a0c4e-0f9c-4e60-9927-6565d89bd9a1",
   "metadata": {},
   "outputs": [
    {
     "name": "stdout",
     "output_type": "stream",
     "text": [
      "bar\n"
     ]
    }
   ],
   "source": [
    "#1 Use help() or '?'\n",
    "#2 type()\n",
    "foo = 'bar'\n",
    "print(foo)"
   ]
  },
  {
   "cell_type": "code",
   "execution_count": 8,
   "id": "c5b31c4f-a6b4-4489-a488-f21ebf9d6308",
   "metadata": {},
   "outputs": [],
   "source": [
    "#3 the variable foo is assigned the value of 'bar', so when you refernce foo in the code the value is stored for it is 'bar', \n",
    "# assignment could be useful for storing large data sets under a simple variable.\n"
   ]
  },
  {
   "cell_type": "code",
   "execution_count": 9,
   "id": "0ad27d23-22a0-4fd2-b5ae-f800f9c31102",
   "metadata": {},
   "outputs": [
    {
     "name": "stdout",
     "output_type": "stream",
     "text": [
      "3\n"
     ]
    }
   ],
   "source": [
    "List1 = ['red','green','blue','black','white','pink','grey','pruple']\n",
    "print(3)\n"
   ]
  },
  {
   "cell_type": "code",
   "execution_count": 10,
   "id": "41c574ee-5c16-4623-a77f-0e7fa6f28a03",
   "metadata": {},
   "outputs": [
    {
     "name": "stdout",
     "output_type": "stream",
     "text": [
      "black\n"
     ]
    }
   ],
   "source": [
    "print(List1[3])"
   ]
  },
  {
   "cell_type": "code",
   "execution_count": 11,
   "id": "de208f69-3ebe-4647-928a-cc92b15963e3",
   "metadata": {},
   "outputs": [],
   "source": [
    "#4 example provided above, making a list woud be a good way to store information"
   ]
  },
  {
   "cell_type": "code",
   "execution_count": 12,
   "id": "5c2f1a3b-6934-468d-8252-aa5a1874baea",
   "metadata": {},
   "outputs": [],
   "source": [
    "#5 make a dictionary, example below"
   ]
  },
  {
   "cell_type": "code",
   "execution_count": 13,
   "id": "410b4fcd-e3ef-42d7-8700-a827c8014868",
   "metadata": {},
   "outputs": [
    {
     "name": "stdout",
     "output_type": "stream",
     "text": [
      "1234\n"
     ]
    }
   ],
   "source": [
    "phone = {'kevin':'1234','sam':'12345','patel':'123456','jackson':'223456'}\n",
    "print(phone['kevin'])"
   ]
  },
  {
   "cell_type": "code",
   "execution_count": 14,
   "id": "abb1f5e6-795b-460f-aced-f77294ac4802",
   "metadata": {},
   "outputs": [
    {
     "name": "stdout",
     "output_type": "stream",
     "text": [
      "123456\n"
     ]
    }
   ],
   "source": [
    "print(phone['patel'])"
   ]
  },
  {
   "cell_type": "code",
   "execution_count": 15,
   "id": "a0c0be13-7f9e-4635-9175-db27be7a0dc7",
   "metadata": {},
   "outputs": [],
   "source": [
    "#6 doing this alters list1 to include a '9' in place of '1', rather than copying then changing to include '9'\n",
    "list1 = [1,2,3]\n",
    "list2 = list1\n",
    "list2[0]= 9"
   ]
  },
  {
   "cell_type": "code",
   "execution_count": 16,
   "id": "cbd9142f-b009-4fa5-92ab-fea28d7b9660",
   "metadata": {},
   "outputs": [
    {
     "name": "stdout",
     "output_type": "stream",
     "text": [
      "9\n"
     ]
    }
   ],
   "source": [
    "print(list1[0])"
   ]
  },
  {
   "cell_type": "code",
   "execution_count": 18,
   "id": "3e639357-f6d5-4656-b9cf-1d0a9120526f",
   "metadata": {},
   "outputs": [
    {
     "name": "stdout",
     "output_type": "stream",
     "text": [
      "truthy\n"
     ]
    }
   ],
   "source": [
    "#7 Boolean, truthy is considered true, falsy is considered false\n",
    "if List1:\n",
    "    print(\"truthy\")\n",
    "else:\n",
    "    print(\"falsy\")"
   ]
  },
  {
   "cell_type": "code",
   "execution_count": 19,
   "id": "f0cd6ae0-c2ad-473e-80d4-69b51a6c9021",
   "metadata": {},
   "outputs": [
    {
     "name": "stdout",
     "output_type": "stream",
     "text": [
      "true\n"
     ]
    }
   ],
   "source": [
    "string1 = \"this is a test\"\n",
    "if string1:\n",
    "    print(\"true\")\n",
    "else:\n",
    "    print(\"false\")"
   ]
  },
  {
   "cell_type": "code",
   "execution_count": 20,
   "id": "a7c41701-920a-43f9-a4cb-449536f3237c",
   "metadata": {},
   "outputs": [],
   "source": [
    "#8 dynamic: determined at compiletime, errors pop up as you go, faster performace, good when flexibility and ease of development is needed, bad when early error detection is needed.\n",
    "#  static: determined at runtime, errors pop up during execution, good when early error detection and performance optimization is needed, bad when flexibility and quick prototyping is needed."
   ]
  },
  {
   "cell_type": "code",
   "execution_count": 21,
   "id": "27d94b90-07f0-4d65-ad89-f0dafd99ce62",
   "metadata": {},
   "outputs": [
    {
     "data": {
      "text/plain": [
       "329"
      ]
     },
     "execution_count": 21,
     "metadata": {},
     "output_type": "execute_result"
    }
   ],
   "source": [
    "#9 max(), sorted()\n",
    "list2 = [8,4,8,2,9,1,7,4,12,16,18,16,19,14,55,42,48,46]\n",
    "sum(list2)"
   ]
  },
  {
   "cell_type": "code",
   "execution_count": 22,
   "id": "88b5d633-abba-42fd-8160-0ec9fafa207e",
   "metadata": {},
   "outputs": [
    {
     "data": {
      "text/plain": [
       "[1, 2, 4, 4, 7, 8, 8, 9, 12, 14, 16, 16, 18, 19, 42, 46, 48, 55]"
      ]
     },
     "execution_count": 22,
     "metadata": {},
     "output_type": "execute_result"
    }
   ],
   "source": [
    "sorted(list2)"
   ]
  },
  {
   "cell_type": "code",
   "execution_count": 23,
   "id": "4730655d-eb48-4427-a6be-ab02b7d97381",
   "metadata": {},
   "outputs": [
    {
     "name": "stdout",
     "output_type": "stream",
     "text": [
      "{num} is even.\n",
      "{num} is even.\n",
      "{num} is even.\n",
      "{num} is even.\n",
      "{num} is odd.\n",
      "{num} is odd.\n",
      "{num} is odd.\n",
      "{num} is even.\n",
      "{num} is even.\n",
      "{num} is even.\n",
      "{num} is even.\n",
      "{num} is even.\n",
      "{num} is odd.\n",
      "{num} is even.\n",
      "{num} is odd.\n",
      "{num} is even.\n",
      "{num} is even.\n",
      "{num} is even.\n"
     ]
    }
   ],
   "source": [
    "#10 modulo operator %\n",
    "for num in list2:\n",
    "    if num % 2 == 0:\n",
    "        print(\"{num} is even.\")\n",
    "    else:\n",
    "        print(\"{num} is odd.\")"
   ]
  },
  {
   "cell_type": "code",
   "execution_count": 24,
   "id": "0dc65075-15f3-4837-8885-1228b75d100a",
   "metadata": {},
   "outputs": [
    {
     "name": "stdout",
     "output_type": "stream",
     "text": [
      "8 is even.\n",
      "4 is even.\n",
      "8 is even.\n",
      "2 is even.\n",
      "9 is odd.\n",
      "1 is odd.\n",
      "7 is odd.\n",
      "4 is even.\n",
      "12 is even.\n",
      "16 is even.\n",
      "18 is even.\n",
      "16 is even.\n",
      "19 is odd.\n",
      "14 is even.\n",
      "55 is odd.\n",
      "42 is even.\n",
      "48 is even.\n",
      "46 is even.\n"
     ]
    }
   ],
   "source": [
    "for num in list2:\n",
    "    if num % 2 == 0:\n",
    "        print(f\"{num} is even.\")\n",
    "    else:\n",
    "        print(f\"{num} is odd.\")"
   ]
  },
  {
   "cell_type": "code",
   "execution_count": 26,
   "id": "2aba32e3-4535-49c6-ac4f-a7ad267893df",
   "metadata": {},
   "outputs": [
    {
     "name": "stdout",
     "output_type": "stream",
     "text": [
      "343\n"
     ]
    }
   ],
   "source": [
    "#11 an expression is a combination of values, variables, operators, and functions that result in a value\n",
    "expression = sum(list1) + sum(list2)\n",
    "print(expression)"
   ]
  },
  {
   "cell_type": "code",
   "execution_count": 27,
   "id": "5fc0a362-a0c5-4515-adfb-ecf6ed92baeb",
   "metadata": {},
   "outputs": [
    {
     "name": "stdout",
     "output_type": "stream",
     "text": [
      "686\n"
     ]
    }
   ],
   "source": [
    "expression2 = expression * 2\n",
    "print(expression2)"
   ]
  },
  {
   "cell_type": "code",
   "execution_count": 29,
   "id": "a316d9fd-bf78-4d60-b8d5-c30480e6e95c",
   "metadata": {},
   "outputs": [
    {
     "name": "stdout",
     "output_type": "stream",
     "text": [
      "48\n"
     ]
    }
   ],
   "source": [
    "#12\n",
    "foo = 22\n",
    "bar = 48\n",
    "greater = foo if foo > bar else bar\n",
    "print(greater)"
   ]
  },
  {
   "cell_type": "code",
   "execution_count": 30,
   "id": "b5785a48-8755-4b63-a5cc-332d16be0c38",
   "metadata": {},
   "outputs": [
    {
     "name": "stdout",
     "output_type": "stream",
     "text": [
      "odd\n",
      "even\n",
      "three\n",
      "even\n",
      "odd\n",
      "even\n",
      "odd\n",
      "even\n",
      "odd\n"
     ]
    }
   ],
   "source": [
    "#13 \n",
    "my_list = [1, 2, 3, 4, 5, 6, 7, 8, 9]\n",
    "for num in my_list:\n",
    "    if num == 3:\n",
    "        print(\"three\")\n",
    "    elif num % 2 == 0:\n",
    "        print(\"even\")\n",
    "    else:\n",
    "        print(\"odd\")"
   ]
  },
  {
   "cell_type": "code",
   "execution_count": 32,
   "id": "863bdc55-3885-43a8-b435-bcd50f7c5507",
   "metadata": {},
   "outputs": [
    {
     "name": "stdout",
     "output_type": "stream",
     "text": [
      "True\n",
      "True\n"
     ]
    }
   ],
   "source": [
    "#14 checks if the left value is lesser than the right value\n",
    "x = 3\n",
    "y = 5\n",
    "z = 10\n",
    "res = x <= y\n",
    "res1 = x <= z\n",
    "print (res)\n",
    "print (res1)"
   ]
  },
  {
   "cell_type": "code",
   "execution_count": 34,
   "id": "3d35bcae-2cd5-4f9e-b1e9-7bfa964b01df",
   "metadata": {},
   "outputs": [
    {
     "data": {
      "text/plain": [
       "936"
      ]
     },
     "execution_count": 34,
     "metadata": {},
     "output_type": "execute_result"
    }
   ],
   "source": [
    "#15 operator divides the first value by the second and round the result down to the nearest whole number\n",
    "6556 // 7"
   ]
  },
  {
   "cell_type": "code",
   "execution_count": 35,
   "id": "5330bc15-03e7-4930-93f4-f7804bd8a9e6",
   "metadata": {},
   "outputs": [
    {
     "ename": "SyntaxError",
     "evalue": "invalid decimal literal (445552376.py, line 1)",
     "output_type": "error",
     "traceback": [
      "\u001b[0;36m  Cell \u001b[0;32mIn[35], line 1\u001b[0;36m\u001b[0m\n\u001b[0;31m    2cars = ('Ferarri', 'Mustang')\u001b[0m\n\u001b[0m    ^\u001b[0m\n\u001b[0;31mSyntaxError\u001b[0m\u001b[0;31m:\u001b[0m invalid decimal literal\n"
     ]
    }
   ],
   "source": [
    "2cars = ('Ferarri', 'Mustang')"
   ]
  },
  {
   "cell_type": "code",
   "execution_count": 36,
   "id": "9dde1541-70e8-47ef-a756-a34b7343959f",
   "metadata": {},
   "outputs": [
    {
     "name": "stdout",
     "output_type": "stream",
     "text": [
      "Ferarri\n"
     ]
    }
   ],
   "source": [
    "#16 code is an error because variable names can't start with a number\n",
    "cars_1 = ('Ferarri', 'Mustang')\n",
    "print(cars_1[0])"
   ]
  },
  {
   "cell_type": "code",
   "execution_count": 37,
   "id": "1c48ade0-e980-4f00-9a98-6217826aca7d",
   "metadata": {},
   "outputs": [
    {
     "name": "stdout",
     "output_type": "stream",
     "text": [
      "Hooray!\n"
     ]
    }
   ],
   "source": [
    "some_list = ['fizz','buzz',1,{'key':'value'}]\n",
    "\n",
    "if some_list:\n",
    "    print('Hooray!')"
   ]
  },
  {
   "cell_type": "code",
   "execution_count": 38,
   "id": "b475f757-69e1-4b17-85cc-9608da699ab4",
   "metadata": {},
   "outputs": [],
   "source": [
    "#17 because some_list isn't empty, the if statement can be executed"
   ]
  },
  {
   "cell_type": "code",
   "execution_count": 39,
   "id": "bd23c700-f6f5-43d7-8247-47e692602cc5",
   "metadata": {},
   "outputs": [
    {
     "data": {
      "text/plain": [
       "512"
      ]
     },
     "execution_count": 39,
     "metadata": {},
     "output_type": "execute_result"
    }
   ],
   "source": [
    "#18\n",
    "8 ** 3"
   ]
  },
  {
   "cell_type": "code",
   "execution_count": 40,
   "id": "c7f94d79-b8ae-4fae-87a1-497923482768",
   "metadata": {},
   "outputs": [
    {
     "data": {
      "text/plain": [
       "int"
      ]
     },
     "execution_count": 40,
     "metadata": {},
     "output_type": "execute_result"
    }
   ],
   "source": [
    "#19\n",
    "my_var = 42\n",
    "type(my_var)"
   ]
  },
  {
   "cell_type": "code",
   "execution_count": 42,
   "id": "edea1463-c56b-457b-8950-53052ce73c4b",
   "metadata": {},
   "outputs": [
    {
     "data": {
      "text/plain": [
       "'42'"
      ]
     },
     "execution_count": 42,
     "metadata": {},
     "output_type": "execute_result"
    }
   ],
   "source": [
    "str(my_var)\n"
   ]
  },
  {
   "cell_type": "code",
   "execution_count": 43,
   "id": "1d749245-6cd8-428e-abd3-11421d9b4708",
   "metadata": {},
   "outputs": [
    {
     "data": {
      "text/plain": [
       "int"
      ]
     },
     "execution_count": 43,
     "metadata": {},
     "output_type": "execute_result"
    }
   ],
   "source": [
    "type(my_var)"
   ]
  },
  {
   "cell_type": "code",
   "execution_count": 44,
   "id": "5d2591ba-fb26-4fab-aab7-f98201c5d694",
   "metadata": {},
   "outputs": [],
   "source": [
    "my_str = str(my_var)"
   ]
  },
  {
   "cell_type": "code",
   "execution_count": 45,
   "id": "2f792644-8169-44ae-b8a5-c47fd1660a08",
   "metadata": {},
   "outputs": [
    {
     "data": {
      "text/plain": [
       "str"
      ]
     },
     "execution_count": 45,
     "metadata": {},
     "output_type": "execute_result"
    }
   ],
   "source": [
    "type(my_str)"
   ]
  },
  {
   "cell_type": "code",
   "execution_count": 48,
   "id": "97c22306-1f4b-4b0f-bf60-9429717c3669",
   "metadata": {},
   "outputs": [],
   "source": [
    "#20\n",
    "some_string = \"The quick brown fox jumped over the lazy dog.\"\n",
    "start = some_string.find('lazy')\n",
    "end = start + len('lazy')\n",
    "word = some_string[start:end]"
   ]
  },
  {
   "cell_type": "code",
   "execution_count": 49,
   "id": "c49f3c62-7d02-425f-86f3-355636841517",
   "metadata": {},
   "outputs": [
    {
     "ename": "NameError",
     "evalue": "name 'eord' is not defined",
     "output_type": "error",
     "traceback": [
      "\u001b[0;31m---------------------------------------------------------------------------\u001b[0m",
      "\u001b[0;31mNameError\u001b[0m                                 Traceback (most recent call last)",
      "Cell \u001b[0;32mIn[49], line 1\u001b[0m\n\u001b[0;32m----> 1\u001b[0m \u001b[38;5;28mprint\u001b[39m(\u001b[43meord\u001b[49m)\n",
      "\u001b[0;31mNameError\u001b[0m: name 'eord' is not defined"
     ]
    }
   ],
   "source": [
    "print(eord)"
   ]
  },
  {
   "cell_type": "code",
   "execution_count": 50,
   "id": "a3c4c9eb-cf54-419b-a85c-762ae75cd517",
   "metadata": {},
   "outputs": [
    {
     "name": "stdout",
     "output_type": "stream",
     "text": [
      "lazy\n"
     ]
    }
   ],
   "source": [
    "print(word)"
   ]
  },
  {
   "cell_type": "code",
   "execution_count": 51,
   "id": "88509884-5931-43d2-8f24-446da369e2e0",
   "metadata": {},
   "outputs": [
    {
     "ename": "IndentationError",
     "evalue": "unexpected indent (1512392803.py, line 4)",
     "output_type": "error",
     "traceback": [
      "\u001b[0;36m  Cell \u001b[0;32mIn[51], line 4\u001b[0;36m\u001b[0m\n\u001b[0;31m    print(sport)\u001b[0m\n\u001b[0m    ^\u001b[0m\n\u001b[0;31mIndentationError\u001b[0m\u001b[0;31m:\u001b[0m unexpected indent\n"
     ]
    }
   ],
   "source": [
    "#21\n",
    "my_favorite_teams= ['Chiefs', 'Cardinals', 'Blues', 'Lakers','Manchester United', 'Couch Surfing']\n",
    "sport = my_favorite_teams[2]\n",
    "    print(sport)"
   ]
  },
  {
   "cell_type": "code",
   "execution_count": 52,
   "id": "dfc897c6-17c5-4dbb-a2d1-4791a88bd1f6",
   "metadata": {},
   "outputs": [
    {
     "name": "stdout",
     "output_type": "stream",
     "text": [
      "Blues\n"
     ]
    }
   ],
   "source": [
    "my_favorite_teams= ['Chiefs', 'Cardinals', 'Blues', 'Lakers','Manchester United', 'Couch Surfing']\n",
    "sport = my_favorite_teams[2]\n",
    "print(sport)"
   ]
  },
  {
   "cell_type": "code",
   "execution_count": 53,
   "id": "20f3ded9-00ff-4f55-ab22-2244f32d3150",
   "metadata": {},
   "outputs": [
    {
     "name": "stdout",
     "output_type": "stream",
     "text": [
      "['__class__', '__delattr__', '__dict__', '__dir__', '__doc__', '__eq__', '__format__', '__ge__', '__getattribute__', '__getstate__', '__gt__', '__hash__', '__init__', '__init_subclass__', '__le__', '__lt__', '__module__', '__ne__', '__new__', '__reduce__', '__reduce_ex__', '__repr__', '__setattr__', '__sizeof__', '__str__', '__subclasshook__', '__weakref__', 'age', 'country', 'name']\n"
     ]
    }
   ],
   "source": [
    "#22 dir() function returns all properties and methods of the specified object, without the values. \n",
    "# It provides a way to look at attributes of any object.\n",
    "class Person:\n",
    "  name = \"John\"\n",
    "  age = 36\n",
    "  country = \"Norway\"\n",
    "\n",
    "print(dir(Person))\n"
   ]
  },
  {
   "cell_type": "code",
   "execution_count": 54,
   "id": "0cd0d3bc-500f-4f06-8ac4-87c68d5fe896",
   "metadata": {},
   "outputs": [
    {
     "name": "stdout",
     "output_type": "stream",
     "text": [
      "46\n"
     ]
    }
   ],
   "source": [
    "#23\n",
    "def funtiondouble(number):\n",
    "    return number * 2\n",
    "\n",
    "end_result = funtiondouble(23)\n",
    "print(end_result)"
   ]
  },
  {
   "cell_type": "code",
   "execution_count": 55,
   "id": "1e0f829d-9bfe-4343-b3f9-96be1ff58a99",
   "metadata": {},
   "outputs": [],
   "source": [
    "# BONUS\n",
    "import random\n",
    "integers_list = [random.randint(0,1000) for i in range(50)]"
   ]
  },
  {
   "cell_type": "code",
   "execution_count": 56,
   "id": "888096ba-e797-4304-9254-4fb9d9d47b71",
   "metadata": {},
   "outputs": [
    {
     "ename": "SyntaxError",
     "evalue": "invalid syntax (4259679100.py, line 2)",
     "output_type": "error",
     "traceback": [
      "\u001b[0;36m  Cell \u001b[0;32mIn[56], line 2\u001b[0;36m\u001b[0m\n\u001b[0;31m    if number %& == 0\u001b[0m\n\u001b[0m               ^\u001b[0m\n\u001b[0;31mSyntaxError\u001b[0m\u001b[0;31m:\u001b[0m invalid syntax\n"
     ]
    }
   ],
   "source": [
    "for number in integers_lists:\n",
    "    if number %& == 0\n",
    "    print(number)"
   ]
  },
  {
   "cell_type": "code",
   "execution_count": 57,
   "id": "e050603e-ebc3-4024-b304-cb595d5c19d5",
   "metadata": {},
   "outputs": [
    {
     "ename": "SyntaxError",
     "evalue": "expected ':' (2430274493.py, line 2)",
     "output_type": "error",
     "traceback": [
      "\u001b[0;36m  Cell \u001b[0;32mIn[57], line 2\u001b[0;36m\u001b[0m\n\u001b[0;31m    if number % 7 == 0\u001b[0m\n\u001b[0m                      ^\u001b[0m\n\u001b[0;31mSyntaxError\u001b[0m\u001b[0;31m:\u001b[0m expected ':'\n"
     ]
    }
   ],
   "source": [
    "for number in integers_lists:\n",
    "    if number % 7 == 0\n",
    "    print(number)"
   ]
  },
  {
   "cell_type": "code",
   "execution_count": 58,
   "id": "c9593571-0b13-4c5f-b14c-74a9c1ecb0a3",
   "metadata": {},
   "outputs": [
    {
     "ename": "IndentationError",
     "evalue": "expected an indented block after 'if' statement on line 2 (2903257702.py, line 3)",
     "output_type": "error",
     "traceback": [
      "\u001b[0;36m  Cell \u001b[0;32mIn[58], line 3\u001b[0;36m\u001b[0m\n\u001b[0;31m    print(number)\u001b[0m\n\u001b[0m    ^\u001b[0m\n\u001b[0;31mIndentationError\u001b[0m\u001b[0;31m:\u001b[0m expected an indented block after 'if' statement on line 2\n"
     ]
    }
   ],
   "source": [
    "for number in integers_lists:\n",
    "    if number % 7 == 0:\n",
    "    print(number)"
   ]
  },
  {
   "cell_type": "code",
   "execution_count": 59,
   "id": "789a1241-ace7-4213-b555-3a9ab7b5f8ff",
   "metadata": {},
   "outputs": [
    {
     "ename": "NameError",
     "evalue": "name 'integers_lists' is not defined",
     "output_type": "error",
     "traceback": [
      "\u001b[0;31m---------------------------------------------------------------------------\u001b[0m",
      "\u001b[0;31mNameError\u001b[0m                                 Traceback (most recent call last)",
      "Cell \u001b[0;32mIn[59], line 1\u001b[0m\n\u001b[0;32m----> 1\u001b[0m \u001b[38;5;28;01mfor\u001b[39;00m number \u001b[38;5;129;01min\u001b[39;00m \u001b[43mintegers_lists\u001b[49m:\n\u001b[1;32m      2\u001b[0m     \u001b[38;5;28;01mif\u001b[39;00m number \u001b[38;5;241m%\u001b[39m \u001b[38;5;241m7\u001b[39m \u001b[38;5;241m==\u001b[39m \u001b[38;5;241m0\u001b[39m:\n\u001b[1;32m      3\u001b[0m         \u001b[38;5;28mprint\u001b[39m(number)\n",
      "\u001b[0;31mNameError\u001b[0m: name 'integers_lists' is not defined"
     ]
    }
   ],
   "source": [
    "for number in integers_lists:\n",
    "    if number % 7 == 0:\n",
    "        print(number)"
   ]
  },
  {
   "cell_type": "code",
   "execution_count": 61,
   "id": "fd1ae661-5294-4ed4-851f-1dc6eb009dc0",
   "metadata": {},
   "outputs": [
    {
     "name": "stdout",
     "output_type": "stream",
     "text": [
      "574\n",
      "91\n",
      "581\n",
      "651\n"
     ]
    }
   ],
   "source": [
    "import random\n",
    "integers_list = [random.randint(0,1000) for i in range(50)]\n",
    "for number in integers_list:\n",
    "    if number % 7 == 0:\n",
    "        print(number)"
   ]
  },
  {
   "cell_type": "code",
   "execution_count": null,
   "id": "c824134a-7208-4a8b-ae37-67cfe1e8e3a0",
   "metadata": {},
   "outputs": [],
   "source": []
  }
 ],
 "metadata": {
  "kernelspec": {
   "display_name": "Python 3 (ipykernel)",
   "language": "python",
   "name": "python3"
  },
  "language_info": {
   "codemirror_mode": {
    "name": "ipython",
    "version": 3
   },
   "file_extension": ".py",
   "mimetype": "text/x-python",
   "name": "python",
   "nbconvert_exporter": "python",
   "pygments_lexer": "ipython3",
   "version": "3.12.1"
  }
 },
 "nbformat": 4,
 "nbformat_minor": 5
}
