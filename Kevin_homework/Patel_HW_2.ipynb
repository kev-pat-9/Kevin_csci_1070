{
 "cells": [
  {
   "cell_type": "code",
   "execution_count": 1,
   "id": "457accb6-c258-4ddf-92f4-1de57c9ce7a0",
   "metadata": {},
   "outputs": [],
   "source": [
    "# 1\n",
    "asterisk = 'My *compu*ter has go*ne craz***y an*d add*ed extra *symbols.*'\n"
   ]
  },
  {
   "cell_type": "code",
   "execution_count": 3,
   "id": "70e8d6ef-0ab5-40c5-a467-f83d74359533",
   "metadata": {},
   "outputs": [
    {
     "name": "stdout",
     "output_type": "stream",
     "text": [
      "My computer has gone crazy and added extra symbols.\n"
     ]
    }
   ],
   "source": [
    "no_asterisk = ''\n",
    "for char in asterisk:\n",
    "    if char != '*':\n",
    "        no_asterisk += char\n",
    "\n",
    "print(no_asterisk)\n",
    "    "
   ]
  },
  {
   "cell_type": "code",
   "execution_count": 4,
   "id": "73717754-ca5c-4b35-9173-f44e3039a305",
   "metadata": {},
   "outputs": [],
   "source": [
    "# 2\n",
    "counter = 0"
   ]
  },
  {
   "cell_type": "code",
   "execution_count": 5,
   "id": "13401ab9-3815-4674-9715-f169a73b0a2c",
   "metadata": {},
   "outputs": [
    {
     "name": "stdout",
     "output_type": "stream",
     "text": [
      "Current value: 0\n",
      "Current value: 1\n",
      "Current value: 2\n",
      "Current value: 3\n",
      "Current value: 4\n",
      "Current value: 5\n",
      "Current value: 6\n"
     ]
    }
   ],
   "source": [
    "while counter < 7:\n",
    "    print(f'Current value: {counter}')\n",
    "    counter += 1"
   ]
  },
  {
   "cell_type": "code",
   "execution_count": 6,
   "id": "1b1055c8-f6dd-42ca-9282-22ce831ac1c4",
   "metadata": {},
   "outputs": [],
   "source": [
    "# 3\n",
    "double_trouble = ['cat','dog', ['mouse','mosquito','bat','mosquito'],['elephant','dog','whale','lion',32,'mosquito'],'bird',[],'mosquito']\n"
   ]
  },
  {
   "cell_type": "code",
   "execution_count": 10,
   "id": "bc6eccba-d557-4949-819c-c9df5b4d1fbd",
   "metadata": {},
   "outputs": [
    {
     "name": "stdout",
     "output_type": "stream",
     "text": [
      "['cat', 'dog', ['mouse', 'bat'], ['elephant', 'dog', 'whale', 'lion', 32], 'bird', []]\n"
     ]
    }
   ],
   "source": [
    "def elim_mosquito(st):\n",
    "    result=[]\n",
    "    for item in st:\n",
    "        if isinstance(item,list):\n",
    "            result.append(elim_mosquito(item))\n",
    "        elif item != 'mosquito':\n",
    "            result.append(item)\n",
    "    return result\n",
    "\n",
    "double_trouble= elim_mosquito(double_trouble)\n",
    "print(double_trouble)"
   ]
  },
  {
   "cell_type": "code",
   "execution_count": 11,
   "id": "ad5ed238-5218-4c38-8be5-9f9bb747e565",
   "metadata": {},
   "outputs": [],
   "source": [
    "# 4\n",
    "def hw_numb_4(num1, num2):\n",
    "    if not all(isinstance(num, int) for num in (num1, num2)):\n",
    "        return 'Invalid Input'\n",
    "\n",
    "    if num1 %2 == num2 %2:\n",
    "        return num1+num2 if num1%2 == 0 else num1 -num2\n",
    "    return 'Invalid Input'\n",
    "    "
   ]
  },
  {
   "cell_type": "code",
   "execution_count": 12,
   "id": "2db36177-6f0e-47e0-a37c-bf6648989622",
   "metadata": {},
   "outputs": [
    {
     "name": "stdout",
     "output_type": "stream",
     "text": [
      "4\n"
     ]
    }
   ],
   "source": [
    "numb_even= hw_numb_4(2,2)\n",
    "print(numb_even)"
   ]
  },
  {
   "cell_type": "code",
   "execution_count": 13,
   "id": "451e4dee-c70f-40d4-803f-22a4ebb1ce1d",
   "metadata": {},
   "outputs": [
    {
     "name": "stdout",
     "output_type": "stream",
     "text": [
      "6\n"
     ]
    }
   ],
   "source": [
    "num_odd = hw_numb_4(33,27)\n",
    "print(num_odd)"
   ]
  },
  {
   "cell_type": "code",
   "execution_count": 16,
   "id": "da29616b-c8ae-42e6-b73e-7f13e25bd23c",
   "metadata": {},
   "outputs": [
    {
     "name": "stdout",
     "output_type": "stream",
     "text": [
      "Invalid Input\n"
     ]
    }
   ],
   "source": [
    "num_rando = hw_numb_4(4,3)\n",
    "print(num_rando)"
   ]
  },
  {
   "cell_type": "code",
   "execution_count": 23,
   "id": "dd772762-5e97-4d18-bd23-a71b2e9975a4",
   "metadata": {},
   "outputs": [],
   "source": [
    "# 5\n",
    "def triangles(n,direction):\n",
    "    if direction == 'base-up':\n",
    "        for a in range(n,0,-1):\n",
    "            print('* ' *a)\n",
    "\n",
    "    elif direction == 'base-down':\n",
    "        for a in range(1, n+1):\n",
    "            print('* ' *a)\n",
    "\n",
    "n = 7"
   ]
  },
  {
   "cell_type": "code",
   "execution_count": 24,
   "id": "a2f4efda-2bba-426c-8691-c32526a4cd27",
   "metadata": {},
   "outputs": [
    {
     "name": "stdout",
     "output_type": "stream",
     "text": [
      "* * * * * * * \n",
      "* * * * * * \n",
      "* * * * * \n",
      "* * * * \n",
      "* * * \n",
      "* * \n",
      "* \n",
      "None\n"
     ]
    }
   ],
   "source": [
    "print(triangles(n,'base-up'))"
   ]
  },
  {
   "cell_type": "code",
   "execution_count": 25,
   "id": "d8ac2e01-e692-4da9-ad3b-83c7b6d64cb4",
   "metadata": {},
   "outputs": [
    {
     "name": "stdout",
     "output_type": "stream",
     "text": [
      "* \n",
      "* * \n",
      "* * * \n",
      "* * * * \n",
      "* * * * * \n",
      "* * * * * * \n",
      "* * * * * * * \n",
      "None\n"
     ]
    }
   ],
   "source": [
    "print(triangles(n,'base-down'))"
   ]
  },
  {
   "cell_type": "code",
   "execution_count": 26,
   "id": "bd2dbe05-c901-4ae7-832b-fb1321d8fe1d",
   "metadata": {},
   "outputs": [
    {
     "name": "stdout",
     "output_type": "stream",
     "text": [
      "21\n"
     ]
    }
   ],
   "source": [
    "# 6\n",
    "class Person():\n",
    "    \n",
    "    def __init__(self, name, occupation, country, age):\n",
    "        self.name = name\n",
    "        self.occupation = occupation\n",
    "        self.country = country\n",
    "        self.age = age\n",
    "\n",
    "person_kevin = Person(name='kevin', occupation='student', country='USA', age=21)\n",
    "print(person_kevin.age)"
   ]
  },
  {
   "cell_type": "code",
   "execution_count": 34,
   "id": "53c2d1a5-a4e6-4013-8b2b-60068c78220a",
   "metadata": {},
   "outputs": [
    {
     "name": "stdout",
     "output_type": "stream",
     "text": [
      "Meryl Streep: This is my line...\n"
     ]
    }
   ],
   "source": [
    "# 7\n",
    "# A static method belongs to a class rather than an instance of the class. It doesn't \n",
    "# have access to the instance or its attributes and is defined using the @staticmethod \n",
    "class actress():\n",
    "    def __init__(self, name = 'Meryl Streep'):\n",
    "        self.name = name\n",
    "        \n",
    "    def act(self, line):\n",
    "        print(f'{self.name}: {line}')\n",
    "    \n",
    "    @staticmethod\n",
    "    def example_line():\n",
    "        print('Drake is performing in STL @ Enterprise Center with J-Cole.')\n",
    "        \n",
    "meryl = actress()\n",
    "meryl.act('This is my line...')"
   ]
  },
  {
   "cell_type": "code",
   "execution_count": 32,
   "id": "65d046ae-c894-4b80-b19f-d3dc44e9d01b",
   "metadata": {},
   "outputs": [
    {
     "name": "stdout",
     "output_type": "stream",
     "text": [
      "Drake is performing in STL @ Enterprise Center with J-Cole.\n"
     ]
    }
   ],
   "source": [
    "actress.example_line()"
   ]
  },
  {
   "cell_type": "code",
   "execution_count": 33,
   "id": "0a2a403c-fe3f-4108-a474-b46516958555",
   "metadata": {},
   "outputs": [
    {
     "name": "stdout",
     "output_type": "stream",
     "text": [
      "Meryl Streep: This is my line...\n",
      "Drake is performing in STL @ Enterprise Center with J-Cole.\n"
     ]
    }
   ],
   "source": [
    "meryl = actress()\n",
    "meryl.act('This is my line...')\n",
    "actress.example_line()"
   ]
  },
  {
   "cell_type": "code",
   "execution_count": 35,
   "id": "a631a128-3708-4cf3-b30b-a177c86f37c1",
   "metadata": {},
   "outputs": [
    {
     "name": "stdout",
     "output_type": "stream",
     "text": [
      "3\n"
     ]
    }
   ],
   "source": [
    "# 8\n",
    "# Helpful starter code\n",
    "from random import randrange\n",
    "\n",
    "print(randrange(1,7)) # randomly generates a number between 1 and 6"
   ]
  },
  {
   "cell_type": "code",
   "execution_count": 37,
   "id": "d3330c6a-3f84-4401-8bd4-396bfef59760",
   "metadata": {},
   "outputs": [
    {
     "name": "stdout",
     "output_type": "stream",
     "text": [
      "4\n",
      "[1, 3]\n"
     ]
    }
   ],
   "source": [
    "from random import randrange\n",
    "\n",
    "print(randrange(1,7))\n",
    "\n",
    "class dice:\n",
    "    def __init__(self, number_of_dice):\n",
    "        self.number_of_dice = number_of_dice\n",
    "        self.dice =[]\n",
    "\n",
    "    def roll(self):\n",
    "        results = [randrange(1,7) for _ in range(self.number_of_dice)]\n",
    "        print(results)\n",
    "\n",
    "dice_instance = dice(number_of_dice=2)\n",
    "dice_instance.roll()"
   ]
  },
  {
   "cell_type": "code",
   "execution_count": 38,
   "id": "f9cf8503-56e7-42b3-b9e3-219fbcb06a04",
   "metadata": {},
   "outputs": [
    {
     "name": "stdout",
     "output_type": "stream",
     "text": [
      "[3, 5]\n"
     ]
    }
   ],
   "source": [
    "dice_instance.roll()"
   ]
  },
  {
   "cell_type": "code",
   "execution_count": 40,
   "id": "dda1caa6-b9ca-4f46-b57d-c667c28d1e74",
   "metadata": {},
   "outputs": [
    {
     "data": {
      "text/plain": [
       "'Nissan'"
      ]
     },
     "execution_count": 40,
     "metadata": {},
     "output_type": "execute_result"
    }
   ],
   "source": [
    "# BONUS\n",
    "class Car:\n",
    "    def __init__(self, make, model, year):\n",
    "        self.make = make\n",
    "        self.model = model\n",
    "        self.year = year\n",
    "\n",
    "dream_car = Car(make='Nissan', model='GTR', year=2024)\n",
    "dream_car.make"
   ]
  },
  {
   "cell_type": "code",
   "execution_count": 42,
   "id": "07f552ca-9386-4c04-b364-6dc1a7af68b7",
   "metadata": {},
   "outputs": [
    {
     "ename": "NameError",
     "evalue": "name 'Print' is not defined",
     "output_type": "error",
     "traceback": [
      "\u001b[0;31m---------------------------------------------------------------------------\u001b[0m",
      "\u001b[0;31mNameError\u001b[0m                                 Traceback (most recent call last)",
      "Cell \u001b[0;32mIn[42], line 1\u001b[0m\n\u001b[0;32m----> 1\u001b[0m \u001b[43mPrint\u001b[49m(\u001b[38;5;28mdir\u001b[39m(dream_car))\n",
      "\u001b[0;31mNameError\u001b[0m: name 'Print' is not defined"
     ]
    }
   ],
   "source": [
    "Print(dir(dream_car))"
   ]
  },
  {
   "cell_type": "code",
   "execution_count": 43,
   "id": "9ed85202-0c4c-48fa-96d5-915f44a9a6c5",
   "metadata": {},
   "outputs": [
    {
     "data": {
      "text/plain": [
       "['__class__',\n",
       " '__delattr__',\n",
       " '__dict__',\n",
       " '__dir__',\n",
       " '__doc__',\n",
       " '__eq__',\n",
       " '__format__',\n",
       " '__ge__',\n",
       " '__getattribute__',\n",
       " '__getstate__',\n",
       " '__gt__',\n",
       " '__hash__',\n",
       " '__init__',\n",
       " '__init_subclass__',\n",
       " '__le__',\n",
       " '__lt__',\n",
       " '__module__',\n",
       " '__ne__',\n",
       " '__new__',\n",
       " '__reduce__',\n",
       " '__reduce_ex__',\n",
       " '__repr__',\n",
       " '__setattr__',\n",
       " '__sizeof__',\n",
       " '__str__',\n",
       " '__subclasshook__',\n",
       " '__weakref__',\n",
       " 'make',\n",
       " 'model',\n",
       " 'year']"
      ]
     },
     "execution_count": 43,
     "metadata": {},
     "output_type": "execute_result"
    }
   ],
   "source": [
    "dir(dream_car)"
   ]
  },
  {
   "cell_type": "code",
   "execution_count": null,
   "id": "364ececd-bf82-4fc7-a23d-9ad97c5d80be",
   "metadata": {},
   "outputs": [],
   "source": []
  }
 ],
 "metadata": {
  "kernelspec": {
   "display_name": "Python 3 (ipykernel)",
   "language": "python",
   "name": "python3"
  },
  "language_info": {
   "codemirror_mode": {
    "name": "ipython",
    "version": 3
   },
   "file_extension": ".py",
   "mimetype": "text/x-python",
   "name": "python",
   "nbconvert_exporter": "python",
   "pygments_lexer": "ipython3",
   "version": "3.12.1"
  }
 },
 "nbformat": 4,
 "nbformat_minor": 5
}
